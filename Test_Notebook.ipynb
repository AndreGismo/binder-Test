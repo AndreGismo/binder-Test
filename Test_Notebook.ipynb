{
 "cells": [
  {
   "cell_type": "markdown",
   "id": "4dd4b46c",
   "metadata": {},
   "source": [
    "# Test Notebook"
   ]
  },
  {
   "cell_type": "code",
   "execution_count": null,
   "id": "76fe9530",
   "metadata": {},
   "outputs": [],
   "source": [
    "import matplotlib.pyplot as plt\n",
    "import numpy as np\n",
    "\n",
    "# custom library\n",
    "import test_lib"
   ]
  },
  {
   "cell_type": "markdown",
   "id": "e931888f",
   "metadata": {},
   "source": [
    "Zuerst die x-Achse ``x`` festlegen:"
   ]
  },
  {
   "cell_type": "code",
   "execution_count": null,
   "id": "f42c5f06",
   "metadata": {},
   "outputs": [],
   "source": [
    "x = np.linspace(0, 10, 101)"
   ]
  },
  {
   "cell_type": "markdown",
   "id": "9093458c",
   "metadata": {},
   "source": [
    "Eine Funktion ``y_func`` für y festlegen:"
   ]
  },
  {
   "cell_type": "code",
   "execution_count": null,
   "id": "577c07c9",
   "metadata": {},
   "outputs": [],
   "source": [
    "def y_func(x, a):\n",
    "    return a*x**0.5"
   ]
  },
  {
   "cell_type": "markdown",
   "id": "9b10a5f4",
   "metadata": {},
   "source": [
    "Alles plotten lassen:"
   ]
  },
  {
   "cell_type": "code",
   "execution_count": null,
   "id": "987b800f",
   "metadata": {},
   "outputs": [],
   "source": [
    "fig, ax = plt.subplots(1, 1, figsize=(15, 8))\n",
    "ax.set_title('Test')\n",
    "ax.minorticks_on()\n",
    "ax.grid(which='both')\n",
    "ax.set_xlabel('$x$-Achse')\n",
    "ax.set_ylabel('$y$-Achse')\n",
    "for i in range(1, 6):\n",
    "    y = y_func(x, i)\n",
    "    ax.plot(x, y, '--x')"
   ]
  },
  {
   "cell_type": "markdown",
   "id": "b0f3b0fb",
   "metadata": {},
   "source": [
    "`test_func` aus der _test_lib_ testen:"
   ]
  },
  {
   "cell_type": "code",
   "execution_count": null,
   "id": "392b8ff6",
   "metadata": {},
   "outputs": [],
   "source": [
    "test_lib.test_func()"
   ]
  }
 ],
 "metadata": {
  "hide_input": false,
  "kernelspec": {
   "display_name": "Python 3",
   "language": "python",
   "name": "python3"
  },
  "language_info": {
   "codemirror_mode": {
    "name": "ipython",
    "version": 3
   },
   "file_extension": ".py",
   "mimetype": "text/x-python",
   "name": "python",
   "nbconvert_exporter": "python",
   "pygments_lexer": "ipython3",
   "version": "3.8.5"
  },
  "latex_envs": {
   "LaTeX_envs_menu_present": true,
   "autoclose": false,
   "autocomplete": true,
   "bibliofile": "biblio.bib",
   "cite_by": "apalike",
   "current_citInitial": 1,
   "eqLabelWithNumbers": true,
   "eqNumInitial": 1,
   "hotkeys": {
    "equation": "Ctrl-E",
    "itemize": "Ctrl-I"
   },
   "labels_anchors": false,
   "latex_user_defs": false,
   "report_style_numbering": false,
   "user_envs_cfg": false
  },
  "toc": {
   "base_numbering": 1,
   "nav_menu": {},
   "number_sections": true,
   "sideBar": true,
   "skip_h1_title": false,
   "title_cell": "Table of Contents",
   "title_sidebar": "Contents",
   "toc_cell": false,
   "toc_position": {},
   "toc_section_display": true,
   "toc_window_display": false
  },
  "varInspector": {
   "cols": {
    "lenName": 16,
    "lenType": 16,
    "lenVar": 40
   },
   "kernels_config": {
    "python": {
     "delete_cmd_postfix": "",
     "delete_cmd_prefix": "del ",
     "library": "var_list.py",
     "varRefreshCmd": "print(var_dic_list())"
    },
    "r": {
     "delete_cmd_postfix": ") ",
     "delete_cmd_prefix": "rm(",
     "library": "var_list.r",
     "varRefreshCmd": "cat(var_dic_list()) "
    }
   },
   "types_to_exclude": [
    "module",
    "function",
    "builtin_function_or_method",
    "instance",
    "_Feature"
   ],
   "window_display": false
  }
 },
 "nbformat": 4,
 "nbformat_minor": 5
}
